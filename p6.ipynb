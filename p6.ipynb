{
 "cells": [
  {
   "cell_type": "code",
   "execution_count": 1,
   "id": "5493e18e",
   "metadata": {},
   "outputs": [],
   "source": [
    "# project: p6\n",
    "# submitter: osundairo\n",
    "# partner: none\n",
    "# hours: 29\n",
    "#https://www.w3schools.com/python/numpy/numpy_array_iterating.asp\n",
    "import rasterio\n",
    "from rasterio.mask import mask\n",
    "from shapely.geometry import Polygon, box, Point\n",
    "import geopandas as gpd\n",
    "import pandas as pd\n",
    "import re\n",
    "import numpy as np\n",
    "from zipfile import ZipFile\n",
    "import sqlite3\n",
    "from sklearn.linear_model import LinearRegression\n",
    "from sklearn.model_selection import train_test_split, cross_val_score\n",
    "import matplotlib.pyplot as plt"
   ]
  },
  {
   "cell_type": "code",
   "execution_count": 2,
   "id": "781fc635",
   "metadata": {},
   "outputs": [
    {
     "data": {
      "text/plain": [
       "72"
      ]
     },
     "execution_count": 2,
     "metadata": {},
     "output_type": "execute_result"
    }
   ],
   "source": [
    "#q1\n",
    "df = gpd.read_file(\"counties.geojson\")\n",
    "int(len(df))"
   ]
  },
  {
   "cell_type": "code",
   "execution_count": 3,
   "id": "72d4b834",
   "metadata": {},
   "outputs": [
    {
     "data": {
      "image/png": "[encoded data removed]",
      "text/plain": [
       "<Figure size 288x288 with 2 Axes>"
      ]
     },
     "metadata": {
      "needs_background": "light"
     },
     "output_type": "display_data"
    }
   ],
   "source": [
    "#q2\n",
    "df\n",
    "ax = df.plot(column=\"POP100\", cmap=\"viridis\", legend=True,figsize=(4,4))"
   ]
  },
  {
   "cell_type": "code",
   "execution_count": 4,
   "id": "3476cc7d",
   "metadata": {},
   "outputs": [],
   "source": [
    "conn = sqlite3.connect('counties_tracts.db')\n",
    "tables=pd.read_sql(\"\"\"SELECT * FROM sqlite_master\"\"\", conn)\n",
    "area=pd.read_sql(\"\"\"SELECT AREALAND FROM counties\"\"\", conn)\n",
    "df[\"AREALAND\"]=area\n",
    "train, test= train_test_split(df,test_size=0.25, random_state=320)"
   ]
  },
  {
   "cell_type": "code",
   "execution_count": 5,
   "id": "b3766dda",
   "metadata": {},
   "outputs": [
    {
     "data": {
      "text/plain": [
       "['Kewaunee County',\n",
       " 'Calumet County',\n",
       " 'Adams County',\n",
       " 'Eau Claire County',\n",
       " 'Milwaukee County',\n",
       " 'Ashland County',\n",
       " 'Wood County',\n",
       " 'Dodge County',\n",
       " 'Sauk County',\n",
       " 'Clark County',\n",
       " 'Pepin County',\n",
       " 'Taylor County',\n",
       " 'Iron County',\n",
       " 'Outagamie County',\n",
       " 'Florence County',\n",
       " 'Oneida County',\n",
       " 'Pierce County',\n",
       " 'Grant County']"
      ]
     },
     "execution_count": 5,
     "metadata": {},
     "output_type": "execute_result"
    }
   ],
   "source": [
    "#q3\n",
    "list(test[\"NAME\"])"
   ]
  },
  {
   "cell_type": "code",
   "execution_count": 34,
   "id": "acbf177b",
   "metadata": {},
   "outputs": [
    {
     "name": "stdout",
     "output_type": "stream",
     "text": [
      "LinearRegression()\n"
     ]
    }
   ],
   "source": [
    "#q4\n",
    "model = LinearRegression()\n",
    "model.fit(train[[\"AREALAND\"]],train[\"POP100\"])\n",
    "model.score(test[[\"AREALAND\"]],test[\"POP100\"])"
   ]
  },
  {
   "cell_type": "code",
   "execution_count": 38,
   "id": "d093ce6c",
   "metadata": {},
   "outputs": [
    {
     "data": {
      "text/plain": [
       "82032.53073541154"
      ]
     },
     "execution_count": 38,
     "metadata": {},
     "output_type": "execute_result"
    }
   ],
   "source": [
    "#q5\n",
    "smiles=500\n",
    "smi_to_skm=2.59\n",
    "skmiles=smiles*smi_to_skm\n",
    "skm_to_sme=1000000\n",
    "smeter=skmiles*skm_to_sme\n",
    "milesdf=pd.DataFrame()\n",
    "milesdf[\"AREALAND\"]=[smeter]\n",
    "model.predict(milesdf)[0]"
   ]
  },
  {
   "cell_type": "code",
   "execution_count": 8,
   "id": "2f23366f",
   "metadata": {},
   "outputs": [],
   "source": [
    "conn1 =sqlite3.connect ('counties_tracts.db')\n",
    "\n",
    "final=pd.read_sql(\"\"\"SELECT a.*, SUM(HU100) HU100\n",
    "                     FROM counties a\n",
    "                     INNER JOIN tracts b \n",
    "                     ON a.COUNTY = b.COUNTY\n",
    "                     GROUP BY a.COUNTY\n",
    "                 \"\"\",conn1)\n",
    "final=final.sort_values(by=[\"index\"])\n",
    "train1, test1= train_test_split(final,test_size=0.25, random_state=320)"
   ]
  },
  {
   "cell_type": "code",
   "execution_count": 9,
   "id": "773e916f",
   "metadata": {},
   "outputs": [
    {
     "data": {
      "text/plain": [
       "['Kewaunee County',\n",
       " 'Calumet County',\n",
       " 'Adams County',\n",
       " 'Eau Claire County',\n",
       " 'Milwaukee County',\n",
       " 'Ashland County',\n",
       " 'Wood County',\n",
       " 'Dodge County',\n",
       " 'Sauk County',\n",
       " 'Clark County',\n",
       " 'Pepin County',\n",
       " 'Taylor County',\n",
       " 'Iron County',\n",
       " 'Outagamie County',\n",
       " 'Florence County',\n",
       " 'Oneida County',\n",
       " 'Pierce County',\n",
       " 'Grant County']"
      ]
     },
     "execution_count": 9,
     "metadata": {},
     "output_type": "execute_result"
    }
   ],
   "source": [
    "#q6\n",
    "list(test1[\"NAME\"])"
   ]
  },
  {
   "cell_type": "code",
   "execution_count": 10,
   "id": "ef0525c8",
   "metadata": {},
   "outputs": [
    {
     "data": {
      "text/plain": [
       "{'Walworth County': 51531,\n",
       " 'Marquette County': 9896,\n",
       " 'Racine County': 82164,\n",
       " 'Waupaca County': 25396,\n",
       " 'Lincoln County': 16784,\n",
       " 'Washburn County': 12979,\n",
       " 'Door County': 23966,\n",
       " 'Waukesha County': 160864,\n",
       " 'Sheboygan County': 50766,\n",
       " 'La Crosse County': 48402,\n",
       " 'Langlade County': 12360,\n",
       " 'Marathon County': 57734,\n",
       " 'Jefferson County': 35147,\n",
       " 'Price County': 11120,\n",
       " 'Vilas County': 25116,\n",
       " 'Columbia County': 26137,\n",
       " 'Ozaukee County': 36267,\n",
       " 'Fond du Lac County': 43910,\n",
       " 'Crawford County': 8802,\n",
       " 'Lafayette County': 7230,\n",
       " 'Green County': 15856,\n",
       " 'Marinette County': 30379,\n",
       " 'Vernon County': 13720,\n",
       " 'Douglas County': 22825,\n",
       " 'Rock County': 68422,\n",
       " 'Iowa County': 10719,\n",
       " 'Dane County': 216022,\n",
       " 'Bayfield County': 12999,\n",
       " 'Polk County': 24248,\n",
       " 'Trempealeau County': 12619,\n",
       " 'Brown County': 104371,\n",
       " 'Washington County': 54695,\n",
       " 'Chippewa County': 27185,\n",
       " 'Oconto County': 23537,\n",
       " 'Richland County': 8868,\n",
       " 'Portage County': 30054,\n",
       " 'Sawyer County': 15975,\n",
       " 'Menominee County': 2253,\n",
       " 'Barron County': 23614,\n",
       " 'Shawano County': 20720,\n",
       " 'Winnebago County': 73329,\n",
       " 'Rusk County': 8883,\n",
       " 'Manitowoc County': 37189,\n",
       " 'Dunn County': 17964,\n",
       " 'Monroe County': 19204,\n",
       " 'Waushara County': 14843,\n",
       " 'Forest County': 8970,\n",
       " 'Green Lake County': 10616,\n",
       " 'Juneau County': 14669,\n",
       " 'St. Croix County': 33983,\n",
       " 'Buffalo County': 6664,\n",
       " 'Kenosha County': 69288,\n",
       " 'Jackson County': 9727,\n",
       " 'Burnett County': 15278}"
      ]
     },
     "execution_count": 10,
     "metadata": {},
     "output_type": "execute_result"
    }
   ],
   "source": [
    "#q7\n",
    "hudict={}\n",
    "x=0\n",
    "for i in list(train1[\"NAME\"]):\n",
    "    hudict[i]=list(train1[\"HU100\"])[x]\n",
    "    x+=1\n",
    "hudict"
   ]
  },
  {
   "cell_type": "code",
   "execution_count": 11,
   "id": "43e446ca",
   "metadata": {},
   "outputs": [
    {
     "data": {
      "text/plain": [
       "0.9652534544116037"
      ]
     },
     "execution_count": 11,
     "metadata": {},
     "output_type": "execute_result"
    }
   ],
   "source": [
    "#q8\n",
    "hulist=list(train1[\"HU100\"])\n",
    "train[\"HU100\"]= hulist\n",
    "\n",
    "scores= cross_val_score(model,train[[\"HU100\"]],train[\"POP100\"])\n",
    "total=0\n",
    "amount=0\n",
    "for i in scores:\n",
    "    total=total+i\n",
    "    amount+=1\n",
    "total/amount"
   ]
  },
  {
   "cell_type": "code",
   "execution_count": 12,
   "id": "99e13fe1",
   "metadata": {},
   "outputs": [
    {
     "data": {
      "text/plain": [
       "0.03704265206670459"
      ]
     },
     "execution_count": 12,
     "metadata": {},
     "output_type": "execute_result"
    }
   ],
   "source": [
    "#q9\n",
    "scores.std()"
   ]
  },
  {
   "cell_type": "code",
   "execution_count": 13,
   "id": "8abd18b1",
   "metadata": {},
   "outputs": [
    {
     "data": {
      "text/plain": [
       "'POP100 = 2.39*HU100 + -7910.46'"
      ]
     },
     "execution_count": 13,
     "metadata": {},
     "output_type": "execute_result"
    }
   ],
   "source": [
    "#q10\n",
    "model.fit(train[[\"HU100\"]],train[\"POP100\"])\n",
    "coef= round(float(model.coef_), 2)\n",
    "inte=round(float(model.intercept_), 2)\n",
    "formula=\"POP100 = \" +str(coef) + \"*HU100 + \"+ str(inte)\n",
    "formula"
   ]
  },
  {
   "cell_type": "code",
   "execution_count": 14,
   "id": "9ca55d5f",
   "metadata": {},
   "outputs": [],
   "source": [
    "df=df.set_index([\"NAME\"])\n",
    "final=final.set_index([\"NAME\"])"
   ]
  },
  {
   "cell_type": "code",
   "execution_count": 15,
   "id": "8a38aa15",
   "metadata": {
    "scrolled": true
   },
   "outputs": [
    {
     "name": "stderr",
     "output_type": "stream",
     "text": [
      "/home/patron/.local/lib/python3.8/site-packages/sklearn/base.py:493: FutureWarning: The feature names should match those that were passed during fit. Starting version 1.2, an error will be raised.\n",
      "Feature names unseen at fit time:\n",
      "- x\n",
      "Feature names seen at fit time, yet now missing:\n",
      "- HU100\n",
      "\n",
      "  warnings.warn(message, FutureWarning)\n"
     ]
    },
    {
     "data": {
      "text/plain": [
       "Text(216022, 488073, 'Dane')"
      ]
     },
     "execution_count": 15,
     "metadata": {},
     "output_type": "execute_result"
    },
    {
     "data": {
      "image/png": "[encoded data removed]",
      "text/plain": [
       "<Figure size 432x288 with 1 Axes>"
      ]
     },
     "metadata": {
      "needs_background": "light"
     },
     "output_type": "display_data"
    }
   ],
   "source": [
    "#q11\n",
    "\n",
    "df[\"HU100\"]=final[\"HU100\"]\n",
    "x=df[\"HU100\"]\n",
    "y=df[\"POP100\"]\n",
    "f=df.loc[[\"Dane County\"],[\"POP100\",\"HU100\"]]\n",
    "h=f.loc[\"Dane County\"][\"HU100\"]\n",
    "p=f.loc[\"Dane County\"][\"POP100\"]\n",
    "fig, ax = plt.subplots()\n",
    "df.plot(kind=\"scatter\",x='HU100', y='POP100',ax=ax)\n",
    "\n",
    "train, test= train_test_split(df,test_size=0.25, random_state=320)\n",
    "model=model.fit(df[[\"HU100\"]],df[\"POP100\"])\n",
    "\n",
    "x = pd.DataFrame({\"x\": np.arange(ax.get_xlim()[0], ax.get_xlim()[1], 0.1)})\n",
    "y = model.predict(x)\n",
    "ax.plot(x, y, c=\"red\")\n",
    "ax.legend([\"Actual\", \"Predicted\"])\n",
    "plt.text(h, p,\"Dane\")"
   ]
  },
  {
   "cell_type": "code",
   "execution_count": 16,
   "id": "120d9c32",
   "metadata": {},
   "outputs": [
    {
     "data": {
      "text/plain": [
       "12"
      ]
     },
     "execution_count": 16,
     "metadata": {},
     "output_type": "execute_result"
    }
   ],
   "source": [
    "#q12\n",
    "A = np.array([\n",
    "    [0,0,5,8,4],\n",
    "    [1,2,4,0,3],\n",
    "    [2,4,0,9,2],\n",
    "    [3,5,2,1,1],\n",
    "    [0,5,0,1,0]\n",
    "])\n",
    "total=0\n",
    "for i in np.nditer(A):\n",
    "    if i >= 2 and i <= 5:\n",
    "        total+=1\n",
    "total"
   ]
  },
  {
   "cell_type": "code",
   "execution_count": 17,
   "id": "fe307ca3",
   "metadata": {},
   "outputs": [],
   "source": [
    "from matplotlib.colors import ListedColormap\n",
    "\n",
    "c = np.zeros((256,3))\n",
    "c[0] = [0.00000000000, 0.00000000000, 0.00000000000]\n",
    "c[11] = [0.27843137255, 0.41960784314, 0.62745098039]\n",
    "c[12] = [0.81960784314, 0.86666666667, 0.97647058824]\n",
    "c[21] = [0.86666666667, 0.78823529412, 0.78823529412]\n",
    "c[22] = [0.84705882353, 0.57647058824, 0.50980392157]\n",
    "c[23] = [0.92941176471, 0.00000000000, 0.00000000000]\n",
    "c[24] = [0.66666666667, 0.00000000000, 0.00000000000]\n",
    "c[31] = [0.69803921569, 0.67843137255, 0.63921568628]\n",
    "c[41] = [0.40784313726, 0.66666666667, 0.38823529412]\n",
    "c[42] = [0.10980392157, 0.38823529412, 0.18823529412]\n",
    "c[43] = [0.70980392157, 0.78823529412, 0.55686274510]\n",
    "c[51] = [0.64705882353, 0.54901960784, 0.18823529412]\n",
    "c[52] = [0.80000000000, 0.72941176471, 0.48627450980]\n",
    "c[71] = [0.88627450980, 0.88627450980, 0.75686274510]\n",
    "c[72] = [0.78823529412, 0.78823529412, 0.46666666667]\n",
    "c[73] = [0.60000000000, 0.75686274510, 0.27843137255]\n",
    "c[74] = [0.46666666667, 0.67843137255, 0.57647058824]\n",
    "c[81] = [0.85882352941, 0.84705882353, 0.23921568628]\n",
    "c[82] = [0.66666666667, 0.43921568628, 0.15686274510]\n",
    "c[90] = [0.72941176471, 0.84705882353, 0.91764705882]\n",
    "c[95] = [0.43921568628, 0.63921568628, 0.72941176471]\n",
    "custom_cmap = ListedColormap(c)"
   ]
  },
  {
   "cell_type": "code",
   "execution_count": 18,
   "id": "214da4a1",
   "metadata": {},
   "outputs": [],
   "source": [
    "mw=df.loc[\"Milwaukee County\",\"geometry\"]\n",
    "land = rasterio.open(\"zip://land.zip!wi.tif\")\n",
    "mw=gpd.GeoDataFrame(index=[0], crs='epsg:4326', geometry=[mw])\n",
    "\n",
    "matrix, _ = mask(land, mw.to_crs(land.crs)[\"geometry\"], crop=True)\n",
    "matrix = matrix[0]"
   ]
  },
  {
   "cell_type": "code",
   "execution_count": 19,
   "id": "87ecc84e",
   "metadata": {},
   "outputs": [
    {
     "data": {
      "text/plain": [
       "<matplotlib.image.AxesImage at 0x7f6e2a750f10>"
      ]
     },
     "execution_count": 19,
     "metadata": {},
     "output_type": "execute_result"
    },
    {
     "data": {
      "image/png": "[encoded data removed]",
      "text/plain": [
       "<Figure size 864x864 with 1 Axes>"
      ]
     },
     "metadata": {
      "needs_background": "light"
     },
     "output_type": "display_data"
    }
   ],
   "source": [
    "#q13\n",
    "fig, ax = plt.subplots(figsize=(12,12))\n",
    "ax.imshow(matrix, vmin=0, vmax=255, cmap=custom_cmap)"
   ]
  },
  {
   "cell_type": "code",
   "execution_count": 20,
   "id": "094a0ba9",
   "metadata": {},
   "outputs": [],
   "source": [
    "land_use = {\"open_water\": 11,\n",
    "            \"ice_snow\": 12,\n",
    "            \"developed_open\": 21,\n",
    "            \"developed_low\": 22,\n",
    "            \"developed_med\": 23,\n",
    "            \"developed_high\": 24,\n",
    "            \"barren\": 31,\n",
    "            \"deciduous\": 41,\n",
    "            \"evergreen\": 42,\n",
    "            \"mixed_forest\": 43,\n",
    "            \"dwarf_scrub\": 51,\n",
    "            \"shrub_scrub\": 52,\n",
    "            \"grassland\": 71,\n",
    "            \"sedge\": 72,\n",
    "            \"lichens\": 73,\n",
    "            \"moss\": 74,\n",
    "            \"pasture\": 81,\n",
    "            \"crops\": 82,\n",
    "            \"woody_wetlands\": 90,\n",
    "            \"herbacious_wetlands\": 95}"
   ]
  },
  {
   "cell_type": "code",
   "execution_count": 21,
   "id": "a8f99e92",
   "metadata": {},
   "outputs": [
    {
     "data": {
      "text/plain": [
       "0.7963037455950543"
      ]
     },
     "execution_count": 21,
     "metadata": {},
     "output_type": "execute_result"
    }
   ],
   "source": [
    "#q14\n",
    "owtotal=0\n",
    "alltotal=0\n",
    "for i in np.nditer(matrix):\n",
    "    if i != 0:\n",
    "        alltotal+=1\n",
    "        if i == land_use[\"open_water\"]:\n",
    "            owtotal+=1\n",
    "owtotal/alltotal"
   ]
  },
  {
   "cell_type": "code",
   "execution_count": 22,
   "id": "a3ba44f2",
   "metadata": {},
   "outputs": [
    {
     "data": {
      "text/plain": [
       "2725860"
      ]
     },
     "execution_count": 22,
     "metadata": {},
     "output_type": "execute_result"
    }
   ],
   "source": [
    "count = np.count_nonzero(matrix == 11)\n",
    "count\n"
   ]
  },
  {
   "cell_type": "code",
   "execution_count": 23,
   "id": "6514ebb8",
   "metadata": {},
   "outputs": [],
   "source": [
    "dictt={}\n",
    "land = rasterio.open(\"zip://land.zip!wi.tif\")\n",
    "for index, rows in df.iterrows():\n",
    "    totalp=0\n",
    "    geometry=df.loc[index,\"geometry\"]\n",
    "    geometry=gpd.GeoDataFrame(index=[0], crs='epsg:4326', geometry=[geometry])\n",
    "    matrix, _ = mask(land, geometry.to_crs(land.crs)[\"geometry\"], crop=True)\n",
    "    matrix = matrix[0]\n",
    "    dictt[index]=np.count_nonzero(matrix == land_use[\"mixed_forest\"])"
   ]
  },
  {
   "cell_type": "code",
   "execution_count": 24,
   "id": "7e44e910",
   "metadata": {},
   "outputs": [
    {
     "data": {
      "image/png": "[encoded data removed]",
      "text/plain": [
       "<Figure size 432x288 with 1 Axes>"
      ]
     },
     "metadata": {
      "needs_background": "light"
     },
     "output_type": "display_data"
    }
   ],
   "source": [
    "#q15\n",
    "lists = dictt.items()\n",
    "counties, open_water = zip(*lists)\n",
    "pop=list(df[\"POP100\"])\n",
    "open_water=list(open_water)\n",
    "plt.scatter(open_water, pop, label=True)\n",
    "plt.xlabel(\"Mixed Forest in County\")\n",
    "plt.ylabel(\"POP100\")\n",
    "plt.show()"
   ]
  },
  {
   "cell_type": "code",
   "execution_count": 28,
   "id": "bbe3f359",
   "metadata": {},
   "outputs": [
    {
     "data": {
      "text/plain": [
       "geopandas.geodataframe.GeoDataFrame"
      ]
     },
     "execution_count": 28,
     "metadata": {},
     "output_type": "execute_result"
    }
   ],
   "source": [
    "#q16\n",
    "df1 = gpd.read_file(\"tracts.geojson\")\n",
    "type(df1)"
   ]
  },
  {
   "cell_type": "code",
   "execution_count": 32,
   "id": "c5183e92",
   "metadata": {},
   "outputs": [
    {
     "data": {
      "text/plain": [
       "array([[[21, 90, 90, ...,  0,  0,  0],\n",
       "        [22, 43, 90, ...,  0,  0,  0],\n",
       "        [22, 52, 52, ...,  0,  0,  0],\n",
       "        ...,\n",
       "        [82, 82, 82, ..., 82, 82, 82],\n",
       "        [82, 82, 82, ..., 82, 82, 82],\n",
       "        [82, 82, 82, ..., 82, 82, 82]]], dtype=uint8)"
      ]
     },
     "execution_count": 32,
     "metadata": {},
     "output_type": "execute_result"
    }
   ],
   "source": [
    "land.read()"
   ]
  },
  {
   "cell_type": "code",
   "execution_count": 26,
   "id": "0b44bd21",
   "metadata": {},
   "outputs": [],
   "source": [
    "#land.read()\n",
    "#use feature to take\n",
    "#columns add to df\n",
    "#look at geoid and match geo id\n",
    "#create two models\n",
    "#use features chosen to predict pop100 column linear and logistic regression\n",
    "#compare cross scores\n",
    "#what is a better model\n"
   ]
  },
  {
   "cell_type": "code",
   "execution_count": null,
   "id": "fe85ade3",
   "metadata": {},
   "outputs": [],
   "source": []
  }
 ],
 "metadata": {
  "kernelspec": {
   "display_name": "Python 3 (ipykernel)",
   "language": "python",
   "name": "python3"
  },
  "language_info": {
   "codemirror_mode": {
    "name": "ipython",
    "version": 3
   },
   "file_extension": ".py",
   "mimetype": "text/x-python",
   "name": "python",
   "nbconvert_exporter": "python",
   "pygments_lexer": "ipython3",
   "version": "3.8.10"
  }
 },
 "nbformat": 4,
 "nbformat_minor": 5
}
